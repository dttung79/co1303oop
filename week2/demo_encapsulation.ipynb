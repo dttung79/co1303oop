{
 "cells": [
  {
   "cell_type": "code",
   "execution_count": null,
   "id": "c32704b9",
   "metadata": {},
   "outputs": [],
   "source": [
    "# 1st version of Pen, all attributes are public\n",
    "class Pen:\n",
    "    # constructor\n",
    "    def __init__(self, color, size):\n",
    "        self.color = color  # attribute (self.color) = parameter (color)\n",
    "        self.size = size\n",
    "    \n",
    "    # normal method\n",
    "    def write(self, message):\n",
    "        print(f'Write \"{message}\" in size {self.size} and color {self.color}')"
   ]
  },
  {
   "cell_type": "code",
   "execution_count": 3,
   "id": "fe8f277a",
   "metadata": {},
   "outputs": [
    {
     "name": "stdout",
     "output_type": "stream",
     "text": [
      "Write \"Hello\" in size 3 and color Red\n"
     ]
    }
   ],
   "source": [
    "p = Pen('Red', 3)\n",
    "p.write('Hello')"
   ]
  },
  {
   "cell_type": "code",
   "execution_count": 4,
   "id": "1b48bff5",
   "metadata": {},
   "outputs": [
    {
     "name": "stdout",
     "output_type": "stream",
     "text": [
      "Write \"Hello\" in size 5 and color Blue\n"
     ]
    }
   ],
   "source": [
    "p.color = 'Blue'\n",
    "p.size = 5\n",
    "p.write('Hello')"
   ]
  },
  {
   "cell_type": "code",
   "execution_count": 5,
   "id": "63847f0d",
   "metadata": {},
   "outputs": [
    {
     "name": "stdout",
     "output_type": "stream",
     "text": [
      "Write \"Hello\" in size -100 and color 1234\n"
     ]
    }
   ],
   "source": [
    "p.color = '1234'\n",
    "p.size = -100\n",
    "p.write('Hello')"
   ]
  },
  {
   "cell_type": "code",
   "execution_count": null,
   "id": "b41b017c",
   "metadata": {},
   "outputs": [],
   "source": [
    "# 2nd version of Pen, all attributes are private\n",
    "class Pen:\n",
    "    # constructor\n",
    "    def __init__(self, color, size):\n",
    "        self.__color = color  # attribute (self.color) = parameter (color)\n",
    "        self.__size = size\n",
    "    \n",
    "    # normal method\n",
    "    def write(self, message):\n",
    "        print(f'Write \"{message}\" in size {self.__size} and color {self.__color}')"
   ]
  },
  {
   "cell_type": "code",
   "execution_count": 7,
   "id": "5ea37e4b",
   "metadata": {},
   "outputs": [
    {
     "ename": "AttributeError",
     "evalue": "'Pen' object has no attribute '__color'",
     "output_type": "error",
     "traceback": [
      "\u001b[0;31m---------------------------------------------------------------------------\u001b[0m",
      "\u001b[0;31mAttributeError\u001b[0m                            Traceback (most recent call last)",
      "Cell \u001b[0;32mIn[7], line 2\u001b[0m\n\u001b[1;32m      1\u001b[0m p \u001b[38;5;241m=\u001b[39m Pen(\u001b[38;5;124m'\u001b[39m\u001b[38;5;124mRed\u001b[39m\u001b[38;5;124m'\u001b[39m, \u001b[38;5;241m3\u001b[39m)\n\u001b[0;32m----> 2\u001b[0m \u001b[38;5;28mprint\u001b[39m(\u001b[43mp\u001b[49m\u001b[38;5;241;43m.\u001b[39;49m\u001b[43m__color\u001b[49m)    \u001b[38;5;66;03m# error because __color is private\u001b[39;00m\n",
      "\u001b[0;31mAttributeError\u001b[0m: 'Pen' object has no attribute '__color'"
     ]
    }
   ],
   "source": [
    "p = Pen('Red', 3)\n",
    "print(p.__color)    # error because __color is private"
   ]
  },
  {
   "cell_type": "code",
   "execution_count": 8,
   "id": "170cba41",
   "metadata": {},
   "outputs": [
    {
     "name": "stdout",
     "output_type": "stream",
     "text": [
      "Write \"Hello\" in size 3 and color Red\n"
     ]
    }
   ],
   "source": [
    "p.__size = 5\n",
    "p.write('Hello')"
   ]
  },
  {
   "cell_type": "code",
   "execution_count": null,
   "id": "f87d2335",
   "metadata": {},
   "outputs": [],
   "source": [
    "# 3rd version, attributes are private with get/set methods to allow acces\n",
    "class Pen:\n",
    "    # constructor\n",
    "    def __init__(self, color, size):\n",
    "        self.__color = color  # __color: private\n",
    "        self.__size = size    # __size: private\n",
    "\n",
    "    def get_color(self):\n",
    "        return self.__color\n",
    "\n",
    "    def set_color(self, new_color):\n",
    "        if new_color.lower() not in ['red', 'blue', 'yellow', 'black']:\n",
    "            print('Invalid color')\n",
    "            return\n",
    "        self.__color = new_color\n",
    "    \n",
    "    def get_size(self):\n",
    "        return self.__size\n",
    "\n",
    "    def set_size(self, new_size):\n",
    "        if new_size < 0 or new_size > 5:\n",
    "            print('Invalid size!')\n",
    "            return\n",
    "\n",
    "        self.__size = new_size\n",
    "    \n",
    "    # normal method\n",
    "    def write(self, message):\n",
    "        print(f'Write \"{message}\" in size {self.__size} and color {self.__color}')"
   ]
  },
  {
   "cell_type": "code",
   "execution_count": 12,
   "id": "4571b09d",
   "metadata": {},
   "outputs": [
    {
     "name": "stdout",
     "output_type": "stream",
     "text": [
      "red\n",
      "Write \"Hello\" in size 3 and color blue\n",
      "Invalid color\n",
      "Write \"Hello\" in size 3 and color blue\n"
     ]
    }
   ],
   "source": [
    "p = Pen('red', 3)\n",
    "print(p.get_color())\n",
    "p.set_color('blue')\n",
    "p.write('Hello')\n",
    "p.set_color('purple')\n",
    "p.write('Hello')"
   ]
  },
  {
   "cell_type": "code",
   "execution_count": 24,
   "id": "e56a5d3f",
   "metadata": {},
   "outputs": [],
   "source": [
    "class Student:\n",
    "    def __init__(self, id, name, grade):\n",
    "        self.__id = id\n",
    "        self.__name = name\n",
    "        self.__grade = grade\n",
    "    \n",
    "    def get_id(self):\n",
    "        return self.__id\n",
    "\n",
    "    def set_id(self, new_id):\n",
    "        if new_id <= 0:\n",
    "            print('Invalid id')\n",
    "            return\n",
    "\n",
    "        self.__id = new_id\n",
    "    \n",
    "    # Similar to name & grade\n",
    "    def get_name(self):\n",
    "        return self.__name\n",
    "\n",
    "    def set_name(self, new_name):\n",
    "        if new_name == '':\n",
    "            print('Invalid name')\n",
    "            return\n",
    "        \n",
    "        self.__name = new_name\n",
    "\n",
    "    def get_grade(self):\n",
    "        return self.__grade\n",
    "\n",
    "    def set_grade(self, new_grade):\n",
    "        if new_grade < 0 or new_grade > 10:\n",
    "            print('Invalid grade')\n",
    "            return\n",
    "        self.__grade = new_grade\n",
    "\n",
    "    def display(self):\n",
    "        # print id, name, grade\n",
    "        print(f'Student id: {self.__id}, name: {self.__name}, grade: {self.__grade}')"
   ]
  },
  {
   "cell_type": "code",
   "execution_count": 25,
   "id": "9c3b153a",
   "metadata": {},
   "outputs": [
    {
     "name": "stdout",
     "output_type": "stream",
     "text": [
      "Student id: 1, name: John, grade: 8\n",
      "Invalid id\n",
      "1\n"
     ]
    }
   ],
   "source": [
    "john = Student(1, 'John', 8)\n",
    "john.display()\n",
    "john.set_id(0)\n",
    "print(john.get_id())"
   ]
  },
  {
   "cell_type": "code",
   "execution_count": 28,
   "id": "cbf1c2be",
   "metadata": {},
   "outputs": [
    {
     "name": "stdout",
     "output_type": "stream",
     "text": [
      "John Lennon\n",
      "Invalid name\n",
      "Student id: 1, name: John Lennon, grade: 10\n",
      "Invalid grade\n",
      "Student id: 1, name: John Lennon, grade: 10\n",
      "10\n",
      "Student id: 1, name: John Lennon, grade: 10\n"
     ]
    }
   ],
   "source": [
    "john.set_name('John Lennon')\n",
    "print(john.get_name())\n",
    "john.set_name('')\n",
    "john.display()\n",
    "\n",
    "john.set_grade(11)\n",
    "john.display()\n",
    "john.set_grade(10)\n",
    "print(john.get_grade())\n",
    "john.display()"
   ]
  }
 ],
 "metadata": {
  "kernelspec": {
   "display_name": "Python 3",
   "language": "python",
   "name": "python3"
  },
  "language_info": {
   "codemirror_mode": {
    "name": "ipython",
    "version": 3
   },
   "file_extension": ".py",
   "mimetype": "text/x-python",
   "name": "python",
   "nbconvert_exporter": "python",
   "pygments_lexer": "ipython3",
   "version": "3.13.2"
  }
 },
 "nbformat": 4,
 "nbformat_minor": 5
}
