{
 "cells": [
  {
   "cell_type": "code",
   "execution_count": 1,
   "id": "62ad6846",
   "metadata": {},
   "outputs": [],
   "source": [
    "# 4th version, attributes are private with get/set methods to allow acces\n",
    "# and provide property for easy to use\n",
    "class Pen:\n",
    "    # constructor\n",
    "    def __init__(self, color, size):\n",
    "        self.__color = color  # __color: private\n",
    "        self.__size = size    # __size: private\n",
    "\n",
    "    @property\n",
    "    def color(self):\n",
    "        return self.__color\n",
    "\n",
    "    @color.setter\n",
    "    def color(self, new_color):\n",
    "        if new_color.lower() not in ['red', 'blue', 'yellow', 'black']:\n",
    "            print('Invalid color')\n",
    "            return\n",
    "        self.__color = new_color\n",
    "    \n",
    "    @property\n",
    "    def size(self):\n",
    "        return self.__size\n",
    "\n",
    "    @size.setter\n",
    "    def size(self, new_size):\n",
    "        if new_size < 0 or new_size > 5:\n",
    "            print('Invalid size!')\n",
    "            return\n",
    "\n",
    "        self.__size = new_size\n",
    "    \n",
    "    # normal method\n",
    "    def write(self, message):\n",
    "        print(f'Write \"{message}\" in size {self.__size} and color {self.__color}')"
   ]
  },
  {
   "cell_type": "code",
   "execution_count": 4,
   "id": "3fae717e",
   "metadata": {},
   "outputs": [
    {
     "name": "stdout",
     "output_type": "stream",
     "text": [
      "Write \"Hello\" in size 2 and color red\n",
      "blue\n",
      "Write \"Hello\" in size 2 and color blue\n",
      "Invalid size!\n",
      "2\n"
     ]
    }
   ],
   "source": [
    "p = Pen('red', 2)\n",
    "p.write('Hello')\n",
    "\n",
    "p.color = 'blue' # as easy as public attribute\n",
    "print(p.color)\n",
    "p.write('Hello')\n",
    "\n",
    "p.size = -10\n",
    "print(p.size)"
   ]
  },
  {
   "cell_type": "code",
   "execution_count": null,
   "id": "a665d4fe",
   "metadata": {},
   "outputs": [],
   "source": [
    "# Write a class Fruit (name, price, quantity) using property"
   ]
  }
 ],
 "metadata": {
  "kernelspec": {
   "display_name": "Python 3",
   "language": "python",
   "name": "python3"
  },
  "language_info": {
   "codemirror_mode": {
    "name": "ipython",
    "version": 3
   },
   "file_extension": ".py",
   "mimetype": "text/x-python",
   "name": "python",
   "nbconvert_exporter": "python",
   "pygments_lexer": "ipython3",
   "version": "3.13.2"
  }
 },
 "nbformat": 4,
 "nbformat_minor": 5
}
