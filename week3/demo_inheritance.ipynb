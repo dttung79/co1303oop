{
 "cells": [
  {
   "cell_type": "code",
   "execution_count": 3,
   "id": "8715082d",
   "metadata": {},
   "outputs": [
    {
     "name": "stdout",
     "output_type": "stream",
     "text": [
      "Hello, I am John\n",
      "Hello, I am Paul\n"
     ]
    }
   ],
   "source": [
    "class Parent:\n",
    "    def __init__(self, name='John'):\n",
    "        self.name = name\n",
    "    \n",
    "    def hi(self):\n",
    "        print(f'Hello, I am {self.name}')\n",
    "\n",
    "p = Parent()\n",
    "p.hi()\n",
    "p = Parent('Paul')\n",
    "p.hi()"
   ]
  },
  {
   "cell_type": "code",
   "execution_count": 4,
   "id": "9359f0ce",
   "metadata": {},
   "outputs": [],
   "source": [
    "class Child(Parent):\n",
    "    pass"
   ]
  },
  {
   "cell_type": "code",
   "execution_count": 5,
   "id": "1e293424",
   "metadata": {},
   "outputs": [
    {
     "name": "stdout",
     "output_type": "stream",
     "text": [
      "Hello, I am John\n",
      "John\n"
     ]
    }
   ],
   "source": [
    "c = Child()\n",
    "c.hi()\n",
    "\n",
    "print(c.name)"
   ]
  },
  {
   "cell_type": "code",
   "execution_count": 6,
   "id": "2f723149",
   "metadata": {},
   "outputs": [
    {
     "name": "stdout",
     "output_type": "stream",
     "text": [
      "Hello, I am Paul\n",
      "Paul\n",
      "10\n"
     ]
    }
   ],
   "source": [
    "# 2nd version of Child\n",
    "class Child(Parent):\n",
    "    def __init__(self, name, age):\n",
    "        # self.name = name # implemented in Parent class\n",
    "        super().__init__(name)  # call __init__ method from Parent\n",
    "        self.age = age\n",
    "\n",
    "c = Child('Paul', 10)\n",
    "c.hi()\n",
    "\n",
    "print(c.name)\n",
    "print(c.age)"
   ]
  },
  {
   "cell_type": "code",
   "execution_count": 8,
   "id": "d4ba0500",
   "metadata": {},
   "outputs": [
    {
     "name": "stdout",
     "output_type": "stream",
     "text": [
      "Hello, I am Paul\n",
      "I am 10 years old.\n"
     ]
    }
   ],
   "source": [
    "# 3rd version\n",
    "class Child(Parent):\n",
    "    def __init__(self, name, age):\n",
    "        # self.name = name # implemented in Parent class\n",
    "        super().__init__(name)  # call __init__ method from Parent\n",
    "        self.age = age\n",
    "\n",
    "    # override hi method from Parent\n",
    "    def hi(self):\n",
    "        #print(f'Hello, I am {self.name}') <== DON\"T do this\n",
    "        super().hi()    # call hi method of Parent\n",
    "        print(f'I am {self.age} years old.')\n",
    "\n",
    "c = Child('Paul', 10)\n",
    "c.hi()"
   ]
  }
 ],
 "metadata": {
  "kernelspec": {
   "display_name": "Python 3",
   "language": "python",
   "name": "python3"
  },
  "language_info": {
   "codemirror_mode": {
    "name": "ipython",
    "version": 3
   },
   "file_extension": ".py",
   "mimetype": "text/x-python",
   "name": "python",
   "nbconvert_exporter": "python",
   "pygments_lexer": "ipython3",
   "version": "3.13.2"
  }
 },
 "nbformat": 4,
 "nbformat_minor": 5
}
