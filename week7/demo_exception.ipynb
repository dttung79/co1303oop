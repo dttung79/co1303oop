{
 "cells": [
  {
   "cell_type": "code",
   "execution_count": null,
   "id": "94f24c3f",
   "metadata": {},
   "outputs": [
    {
     "name": "stdout",
     "output_type": "stream",
     "text": [
      "10\n"
     ]
    }
   ],
   "source": [
    "# Handle error using if-else\n",
    "a = input('Enter a: ')\n",
    "if not a.isdigit():\n",
    "    print('Invalid input, please enter a number.')\n",
    "else:\n",
    "    a = int(a)\n",
    "    print(a)\n",
    "\n",
    "b = input('Enter b: ')\n",
    "if not b.isdigit():\n",
    "    print('Invalid input, please enter a number.')\n",
    "else:\n",
    "    b = int(b)\n",
    "    print(b)"
   ]
  },
  {
   "cell_type": "code",
   "execution_count": null,
   "id": "4ad1ea89",
   "metadata": {},
   "outputs": [
    {
     "name": "stdout",
     "output_type": "stream",
     "text": [
      "10\n",
      "20\n"
     ]
    }
   ],
   "source": [
    "# Handle error using try-except\n",
    "try:\n",
    "    a = int(input(\"Enter a: \"))\n",
    "    b = int(input(\"Enter b: \"))\n",
    "    print(a)\n",
    "    print(b)\n",
    "except ValueError:\n",
    "    print(\"Invalid input, please enter a number.\")"
   ]
  },
  {
   "cell_type": "code",
   "execution_count": null,
   "id": "9df8c518",
   "metadata": {},
   "outputs": [
    {
     "name": "stdout",
     "output_type": "stream",
     "text": [
      "Cannot divide by zero.\n"
     ]
    }
   ],
   "source": [
    "# Handle multipe errors using try-except\n",
    "try:\n",
    "    a = int(input(\"Enter a: \"))\n",
    "    b = int(input(\"Enter b: \"))\n",
    "    c = a / b\n",
    "    print(f'{a} / {b} = {c}')\n",
    "except ValueError:\n",
    "    print(\"Invalid input, please enter a number.\")\n",
    "except ZeroDivisionError:\n",
    "    print(\"Cannot divide by zero.\")"
   ]
  },
  {
   "cell_type": "code",
   "execution_count": 29,
   "id": "f46f6e6a",
   "metadata": {},
   "outputs": [
    {
     "name": "stdout",
     "output_type": "stream",
     "text": [
      "Unknown error happened:  division by zero\n"
     ]
    }
   ],
   "source": [
    "# Handle multiple error using general Exception\n",
    "try:\n",
    "    a = int(input(\"Enter a: \"))\n",
    "    b = int(input(\"Enter b: \"))\n",
    "    c = a / b\n",
    "    print(f'{a} / {b} = {c}')\n",
    "except Exception as e:\n",
    "    print('Unknown error happened: ', e)"
   ]
  },
  {
   "cell_type": "code",
   "execution_count": 36,
   "id": "d2ac669d",
   "metadata": {},
   "outputs": [],
   "source": [
    "class Student:\n",
    "    def __init__(self, name, age, gpa):\n",
    "        self.name = name\n",
    "        self.age = age\n",
    "        self.gpa = gpa\n",
    "    \n",
    "    @property\n",
    "    def name(self):\n",
    "        return self.__name\n",
    "    \n",
    "    @name.setter\n",
    "    def name(self, new_name):\n",
    "        if not isinstance(new_name, str) or new_name == '':\n",
    "            raise ValueError(\"Name must be a non-empty string.\")\n",
    "        self.__name = new_name\n",
    "    \n",
    "    @property\n",
    "    def age(self):\n",
    "        return self.__age\n",
    "    \n",
    "    @age.setter\n",
    "    def age(self, new_age):\n",
    "        if not isinstance(new_age, int) or new_age < 0:\n",
    "            raise ValueError(\"Age must be a non-negative integer.\")\n",
    "        self.__age = new_age\n",
    "\n",
    "    @property\n",
    "    def gpa(self):\n",
    "        return self.__gpa\n",
    "    \n",
    "    @gpa.setter\n",
    "    def gpa(self, new_gpa):\n",
    "        if not isinstance(new_gpa, float) or new_gpa < 0.0 or new_gpa > 5.0:\n",
    "            raise ValueError(\"GPA must be a float between 0.0 and 5.0.\")\n",
    "        self.__gpa = new_gpa"
   ]
  },
  {
   "cell_type": "code",
   "execution_count": 39,
   "id": "83cc0fd8",
   "metadata": {},
   "outputs": [
    {
     "name": "stdout",
     "output_type": "stream",
     "text": [
      "Error creating student: invalid literal for int() with base 10: 'John'\n"
     ]
    }
   ],
   "source": [
    "try:\n",
    "    name = input(\"Enter student's name: \")\n",
    "    age = int(input(\"Enter student's age: \"))\n",
    "    gpa = float(input(\"Enter student's GPA: \"))\n",
    "    student = Student(name, age, gpa)\n",
    "    print(f\"Student created: {student.name}, Age: {student.age}, GPA: {student.gpa}\")\n",
    "except ValueError as e:\n",
    "    print(f\"Error creating student: {e}\")"
   ]
  },
  {
   "cell_type": "code",
   "execution_count": 40,
   "id": "0970c0ae",
   "metadata": {},
   "outputs": [
    {
     "name": "stdout",
     "output_type": "stream",
     "text": [
      "Error creating student: GPA must be a float between 0.0 and 5.0.\n",
      "Error creating student: Age must be a non-negative integer.\n",
      "Student created: John, Age: 10, GPA: 2.0\n"
     ]
    }
   ],
   "source": [
    "# recover from error\n",
    "invalid = True\n",
    "while invalid:\n",
    "    try:\n",
    "        name = input(\"Enter student's name: \")\n",
    "        age = int(input(\"Enter student's age: \"))\n",
    "        gpa = float(input(\"Enter student's GPA: \"))\n",
    "        student = Student(name, age, gpa)\n",
    "        print(f\"Student created: {student.name}, Age: {student.age}, GPA: {student.gpa}\")\n",
    "\n",
    "        invalid = False\n",
    "    except ValueError as e:\n",
    "        print(f\"Error creating student: {e}\")"
   ]
  },
  {
   "cell_type": "code",
   "execution_count": 42,
   "id": "9e03ac3c",
   "metadata": {},
   "outputs": [],
   "source": [
    "# Create your own exception\n",
    "class GPAValueError(ValueError):\n",
    "    def __init__(self, message=\"GPA must be a float between 0.0 and 5.0.\"):\n",
    "        self.message = message\n",
    "        super().__init__(self.message)\n",
    "\n",
    "class Student:\n",
    "    def __init__(self, name, age, gpa):\n",
    "        self.name = name\n",
    "        self.age = age\n",
    "        self.gpa = gpa\n",
    "    \n",
    "    @property\n",
    "    def name(self):\n",
    "        return self.__name\n",
    "    \n",
    "    @name.setter\n",
    "    def name(self, new_name):\n",
    "        if not isinstance(new_name, str) or new_name == '':\n",
    "            raise ValueError(\"Name must be a non-empty string.\")\n",
    "        self.__name = new_name\n",
    "    \n",
    "    @property\n",
    "    def age(self):\n",
    "        return self.__age\n",
    "    \n",
    "    @age.setter\n",
    "    def age(self, new_age):\n",
    "        if not isinstance(new_age, int) or new_age < 0:\n",
    "            raise ValueError(\"Age must be a non-negative integer.\")\n",
    "        self.__age = new_age\n",
    "\n",
    "    @property\n",
    "    def gpa(self):\n",
    "        return self.__gpa\n",
    "    \n",
    "    @gpa.setter\n",
    "    def gpa(self, new_gpa):\n",
    "        if not isinstance(new_gpa, float) or new_gpa < 0.0 or new_gpa > 5.0:\n",
    "            raise GPAValueError(\"GPA must be a float between 0.0 and 5.0.\")\n",
    "        self.__gpa = new_gpa"
   ]
  },
  {
   "cell_type": "code",
   "execution_count": null,
   "id": "596370f5",
   "metadata": {},
   "outputs": [],
   "source": [
    "invalid = True\n",
    "while invalid:\n",
    "    try:\n",
    "        name = input(\"Enter student's name: \")\n",
    "        age = int(input(\"Enter student's age: \"))\n",
    "        gpa = float(input(\"Enter student's GPA: \"))\n",
    "        student = Student(name, age, gpa)\n",
    "        print(f\"Student created: {student.name}, Age: {student.age}, GPA: {student.gpa}\")\n",
    "\n",
    "        invalid = False\n",
    "    except GPAValueError as e:\n",
    "        print(f\"GPA Error: {e.message}\")\n",
    "    except ValueError as e:\n",
    "        print(f\"Error creating student: {e}\")"
   ]
  }
 ],
 "metadata": {
  "kernelspec": {
   "display_name": "Python 3",
   "language": "python",
   "name": "python3"
  },
  "language_info": {
   "codemirror_mode": {
    "name": "ipython",
    "version": 3
   },
   "file_extension": ".py",
   "mimetype": "text/x-python",
   "name": "python",
   "nbconvert_exporter": "python",
   "pygments_lexer": "ipython3",
   "version": "3.13.2"
  }
 },
 "nbformat": 4,
 "nbformat_minor": 5
}
