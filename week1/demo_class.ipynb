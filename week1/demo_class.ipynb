{
 "cells": [
  {
   "cell_type": "code",
   "execution_count": null,
   "id": "afa2ee23",
   "metadata": {},
   "outputs": [],
   "source": [
    "# A class is an abstraction of similar objects\n",
    "# A class has name, constructor, attributes and methods\n",
    "# Attribute is like variable but belongs to object of the class: i.e color, size, etc.\n",
    "# Method is like function but also belongs to object of the class: i.e write\n",
    "# Constructor is a special method, which is used to create object of the class"
   ]
  },
  {
   "cell_type": "code",
   "execution_count": 1,
   "id": "54a494f1",
   "metadata": {},
   "outputs": [],
   "source": [
    "class Pen:\n",
    "    # constructor\n",
    "    def __init__(self, color, size):\n",
    "        self.color = color  # attribute (self.color) = parameter (color)\n",
    "        self.size = size\n",
    "    \n",
    "    # normal method\n",
    "    def write(self, message):\n",
    "        print(f'Write \"{message}\" in size {self.size} and color {self.color}')"
   ]
  },
  {
   "cell_type": "code",
   "execution_count": null,
   "id": "6dff39a0",
   "metadata": {},
   "outputs": [
    {
     "name": "stdout",
     "output_type": "stream",
     "text": [
      "Write \"Hello\" in size 2 and color red\n",
      "Write \"Hello\" in size 5 and color blue\n"
     ]
    }
   ],
   "source": [
    "p1 = Pen('red', 2)  # create an object (instance), the constructor __init__ will be called\n",
    "p1.write('Hello')   # tell p1 to write a message 'Hello'\n",
    "\n",
    "p2 = Pen('blue', 5) # create another object\n",
    "p2.write('Hello')   # tell p2 to write the same message 'Hello' but output may different"
   ]
  },
  {
   "cell_type": "code",
   "execution_count": 3,
   "id": "99e991c2",
   "metadata": {},
   "outputs": [],
   "source": [
    "class Student:\n",
    "    def __init__(self, id, name, grade):\n",
    "        self.id = id\n",
    "        self.name = name\n",
    "        self.grade = grade\n",
    "    \n",
    "    def show(self):\n",
    "        print(f'ID: {self.id}, name: {self.name}, grade: {self.grade}')"
   ]
  },
  {
   "cell_type": "code",
   "execution_count": 4,
   "id": "98f2132b",
   "metadata": {},
   "outputs": [
    {
     "name": "stdout",
     "output_type": "stream",
     "text": [
      "ID: 1, name: John, grade: 8.0\n",
      "ID: 2, name: Paul, grade: 7.5\n"
     ]
    }
   ],
   "source": [
    "john = Student(1, 'John', 8.0)\n",
    "paul = Student(2, 'Paul', 7.5)\n",
    "\n",
    "john.show()\n",
    "paul.show()"
   ]
  },
  {
   "cell_type": "code",
   "execution_count": 5,
   "id": "c9b38239",
   "metadata": {},
   "outputs": [
    {
     "name": "stdout",
     "output_type": "stream",
     "text": [
      "John\n",
      "7.5\n"
     ]
    }
   ],
   "source": [
    "# access attribute of object\n",
    "print(john.name)\n",
    "print(paul.grade)"
   ]
  },
  {
   "cell_type": "code",
   "execution_count": 6,
   "id": "099394b2",
   "metadata": {},
   "outputs": [
    {
     "name": "stdout",
     "output_type": "stream",
     "text": [
      "ID: 1, name: John, grade: 10\n",
      "ID: 3, name: Paul, grade: 7.5\n"
     ]
    }
   ],
   "source": [
    "# change value of object's attribute\n",
    "john.grade = 10\n",
    "paul.id = 3\n",
    "john.show()\n",
    "paul.show()"
   ]
  },
  {
   "cell_type": "code",
   "execution_count": 7,
   "id": "118b2ef6",
   "metadata": {},
   "outputs": [],
   "source": [
    "class Pet:\n",
    "    def __init__(self, kind, nick_name):\n",
    "        self.kind = kind\n",
    "        self.nick_name = nick_name\n",
    "    \n",
    "    def show(self):\n",
    "        print(f'A {self.kind} nick name {self.nick_name}')"
   ]
  },
  {
   "cell_type": "code",
   "execution_count": 12,
   "id": "ca1ebfab",
   "metadata": {},
   "outputs": [],
   "source": [
    "class Owner:\n",
    "    def __init__(self, name, pet):\n",
    "        self.name = name\n",
    "        self.pet = pet\n",
    "    \n",
    "    def show(self):\n",
    "        print(f'{self.name} has ', end='')\n",
    "        self.pet.show()     # Owner object tell Pet object to do something"
   ]
  },
  {
   "cell_type": "code",
   "execution_count": 13,
   "id": "d8122743",
   "metadata": {},
   "outputs": [
    {
     "name": "stdout",
     "output_type": "stream",
     "text": [
      "John has A Dog nick name Jack\n"
     ]
    }
   ],
   "source": [
    "jack = Pet('Dog', 'Jack')   # create a Pet object\n",
    "john = Owner('John', jack)  # create a Owner object, pass a Pet object to the constructor\n",
    "john.show()                 # tell Owner object to do something"
   ]
  },
  {
   "cell_type": "code",
   "execution_count": 14,
   "id": "3dee333f",
   "metadata": {},
   "outputs": [],
   "source": [
    "class Book:\n",
    "    def __init__(self, title, author):\n",
    "        self.title = title\n",
    "        self.author = author\n",
    "    \n",
    "    def show(self):\n",
    "        print(f'Title: {self.title}, Author: {self.author}')"
   ]
  },
  {
   "cell_type": "code",
   "execution_count": 15,
   "id": "f874169c",
   "metadata": {},
   "outputs": [],
   "source": [
    "class Reader:\n",
    "    def __init__(self, name):\n",
    "        self.name = name\n",
    "        self.books = [] # init empty list of books\n",
    "\n",
    "    def borrow(self, book):\n",
    "        self.books.append(book)\n",
    "        print(f'{self.name} borrows {book.title}')\n",
    "\n",
    "    def getback(self, book):\n",
    "        self.books.remove(book)\n",
    "        print(f'{self.name} returns {book.title}')\n",
    "    \n",
    "    def show(self):\n",
    "        print(f'Reader: {self.name} is borrowing following books')\n",
    "        for b in self.books:\n",
    "            b.show()"
   ]
  },
  {
   "cell_type": "code",
   "execution_count": null,
   "id": "c431472d",
   "metadata": {},
   "outputs": [],
   "source": [
    "python_book = Book('Python Programming', 'John Doe')\n",
    "harry_book = Book('Harry Potter', 'J.K Rowling')\n",
    "\n",
    "mike = Reader('Mike')\n",
    "mike.borrow(python_book)\n",
    "mike.borrow(harry_book)\n",
    "\n",
    "mike.show()"
   ]
  },
  {
   "cell_type": "code",
   "execution_count": null,
   "id": "0422c7f1",
   "metadata": {},
   "outputs": [],
   "source": [
    "mike.getback(harry_book)\n",
    "mike.show()"
   ]
  },
  {
   "cell_type": "code",
   "execution_count": 18,
   "id": "952f88a9",
   "metadata": {},
   "outputs": [],
   "source": [
    "class Product:\n",
    "    def __init__(self, name, price):\n",
    "        self.name = name\n",
    "        self.price = price\n",
    "    \n",
    "    def show(self):\n",
    "        print(f'Product {self.name}, price: ${self.price}')\n",
    "\n",
    "class Cart:\n",
    "    def __init__(self, customer, address):\n",
    "        self.customer = customer\n",
    "        self.address = address\n",
    "        self.products = []\n",
    "\n",
    "    def add(self, product):\n",
    "        self.products.append(product)\n",
    "        print(f'Added {product.name} to the cart')\n",
    "    \n",
    "    def remove(self, product):\n",
    "        if product not in self.products:\n",
    "            print(f'Cart not contain {product.name}')\n",
    "            return\n",
    "        \n",
    "        self.products.remove(product)\n",
    "        print(f'Removed {product.name} from the cart')\n",
    "\n",
    "    def total_price(self):\n",
    "        total = 0\n",
    "        for product in self.products:\n",
    "            total += product.price\n",
    "\n",
    "        return total\n",
    "    \n",
    "    def print_bill(self):\n",
    "        print(f'Bill for customer {self.customer}, address: {self.address}')\n",
    "        for p in self.products:\n",
    "            p.show()\n",
    "        \n",
    "        print(f'Total price: ${self.total_price()}')"
   ]
  },
  {
   "cell_type": "code",
   "execution_count": 19,
   "id": "48a849ff",
   "metadata": {},
   "outputs": [
    {
     "name": "stdout",
     "output_type": "stream",
     "text": [
      "Added Pen to the cart\n",
      "Added Notebook to the cart\n",
      "Bill for customer John, address: Hanoi\n",
      "Product Pen, price: $2\n",
      "Product Notebook, price: $5\n",
      "Total price: $7\n"
     ]
    }
   ],
   "source": [
    "pen = Product('Pen', 2)\n",
    "notebook = Product('Notebook', 5)\n",
    "\n",
    "cart = Cart('John', 'Hanoi')\n",
    "cart.add(pen)\n",
    "cart.add(notebook)\n",
    "\n",
    "cart.print_bill()"
   ]
  }
 ],
 "metadata": {
  "kernelspec": {
   "display_name": "Python 3",
   "language": "python",
   "name": "python3"
  },
  "language_info": {
   "codemirror_mode": {
    "name": "ipython",
    "version": 3
   },
   "file_extension": ".py",
   "mimetype": "text/x-python",
   "name": "python",
   "nbconvert_exporter": "python",
   "pygments_lexer": "ipython3",
   "version": "3.13.2"
  }
 },
 "nbformat": 4,
 "nbformat_minor": 5
}
