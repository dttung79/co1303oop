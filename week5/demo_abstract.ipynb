{
 "cells": [
  {
   "cell_type": "code",
   "execution_count": 1,
   "id": "75119372",
   "metadata": {},
   "outputs": [],
   "source": [
    "# import ABC class and abstractmethod decorator\n",
    "from abc import ABC, abstractmethod\n",
    "\n",
    "# to declare a class as abstract, inherit from ABC\n",
    "class Parent(ABC):\n",
    "    # to declare an abstract method, use the @abstractmethod decorator\n",
    "    @abstractmethod\n",
    "    def some_method(self):  # only definition\n",
    "        pass    # no implementation here\n",
    "\n",
    "    # abstract class still can have normal methods\n",
    "    def normal_method(self):\n",
    "        print(\"This is a normal method in the Parent class.\")"
   ]
  },
  {
   "cell_type": "code",
   "execution_count": 2,
   "id": "2b29b86d",
   "metadata": {},
   "outputs": [
    {
     "ename": "TypeError",
     "evalue": "Can't instantiate abstract class Parent without an implementation for abstract method 'some_method'",
     "output_type": "error",
     "traceback": [
      "\u001b[0;31m---------------------------------------------------------------------------\u001b[0m",
      "\u001b[0;31mTypeError\u001b[0m                                 Traceback (most recent call last)",
      "Cell \u001b[0;32mIn[2], line 1\u001b[0m\n\u001b[0;32m----> 1\u001b[0m p \u001b[38;5;241m=\u001b[39m \u001b[43mParent\u001b[49m\u001b[43m(\u001b[49m\u001b[43m)\u001b[49m  \u001b[38;5;66;03m# this will raise an error because Parent is abstract\u001b[39;00m\n",
      "\u001b[0;31mTypeError\u001b[0m: Can't instantiate abstract class Parent without an implementation for abstract method 'some_method'"
     ]
    }
   ],
   "source": [
    "p = Parent()  # this will raise an error because Parent is abstract"
   ]
  },
  {
   "cell_type": "code",
   "execution_count": 5,
   "id": "6bd441fa",
   "metadata": {},
   "outputs": [],
   "source": [
    "class Child(Parent): # normal class inheriting from Parent\n",
    "    # override the abstract method\n",
    "    def some_method(self):\n",
    "        print(\"implementation of the abstract method in the Child class.\")"
   ]
  },
  {
   "cell_type": "code",
   "execution_count": 6,
   "id": "cb3aca85",
   "metadata": {},
   "outputs": [
    {
     "name": "stdout",
     "output_type": "stream",
     "text": [
      "implementation of the abstract method in the Child class.\n",
      "This is a normal method in the Parent class.\n"
     ]
    }
   ],
   "source": [
    "c = Child()\n",
    "c.some_method()   # ok because some_method is implemented\n",
    "c.normal_method()  # ok because normal_method is inherited"
   ]
  },
  {
   "cell_type": "code",
   "execution_count": 7,
   "id": "040e29e4",
   "metadata": {},
   "outputs": [],
   "source": [
    "# AnotherChild is abstract because it does not implement the abstract method\n",
    "class AnotherChild(Parent):\n",
    "    def my_method(self):\n",
    "        print(\"This is a method in AnotherChild class.\")"
   ]
  },
  {
   "cell_type": "code",
   "execution_count": 8,
   "id": "d515d5af",
   "metadata": {},
   "outputs": [
    {
     "ename": "TypeError",
     "evalue": "Can't instantiate abstract class AnotherChild without an implementation for abstract method 'some_method'",
     "output_type": "error",
     "traceback": [
      "\u001b[0;31m---------------------------------------------------------------------------\u001b[0m",
      "\u001b[0;31mTypeError\u001b[0m                                 Traceback (most recent call last)",
      "Cell \u001b[0;32mIn[8], line 1\u001b[0m\n\u001b[0;32m----> 1\u001b[0m ac \u001b[38;5;241m=\u001b[39m \u001b[43mAnotherChild\u001b[49m\u001b[43m(\u001b[49m\u001b[43m)\u001b[49m  \u001b[38;5;66;03m# this will raise an error because AnotherChild is abstract\u001b[39;00m\n",
      "\u001b[0;31mTypeError\u001b[0m: Can't instantiate abstract class AnotherChild without an implementation for abstract method 'some_method'"
     ]
    }
   ],
   "source": [
    "ac = AnotherChild()  # this will raise an error because AnotherChild is abstract"
   ]
  },
  {
   "cell_type": "code",
   "execution_count": 9,
   "id": "8d0a6f14",
   "metadata": {},
   "outputs": [],
   "source": [
    "class ChildOfAnotherChild(AnotherChild):\n",
    "    # override the abstract method\n",
    "    def some_method(self):\n",
    "        print(\"implementation of the abstract method in ChildOfAnotherChild class.\")"
   ]
  },
  {
   "cell_type": "code",
   "execution_count": 10,
   "id": "dfff5bcd",
   "metadata": {},
   "outputs": [
    {
     "name": "stdout",
     "output_type": "stream",
     "text": [
      "implementation of the abstract method in ChildOfAnotherChild class.\n",
      "This is a method in AnotherChild class.\n"
     ]
    }
   ],
   "source": [
    "ccc = ChildOfAnotherChild()\n",
    "ccc.some_method()  # ok because some_method is implemented\n",
    "ccc.my_method()    # ok because my_method is inherited"
   ]
  }
 ],
 "metadata": {
  "kernelspec": {
   "display_name": "Python 3",
   "language": "python",
   "name": "python3"
  },
  "language_info": {
   "codemirror_mode": {
    "name": "ipython",
    "version": 3
   },
   "file_extension": ".py",
   "mimetype": "text/x-python",
   "name": "python",
   "nbconvert_exporter": "python",
   "pygments_lexer": "ipython3",
   "version": "3.13.2"
  }
 },
 "nbformat": 4,
 "nbformat_minor": 5
}
